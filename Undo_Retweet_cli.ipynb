{
 "cells": [
  {
   "cell_type": "code",
   "execution_count": 1,
   "metadata": {},
   "outputs": [],
   "source": [
    "import time\n",
    "from selenium import webdriver\n",
    "from selenium.webdriver.chrome.options import Options\n",
    "from selenium.webdriver.common.keys import Keys"
   ]
  },
  {
   "cell_type": "code",
   "execution_count": 3,
   "metadata": {},
   "outputs": [],
   "source": [
    "class undoRetweet():\n",
    "    URL = 'https://twitter.com/home?lang=en'\n",
    "    USERNAME = ''\n",
    "    PASSWORD = ''\n",
    "    \n",
    "    def __init__(self, user, password):\n",
    "        self.USERNAME = user\n",
    "        self.PASSWORD = password\n",
    "        \n",
    "        self.driver = webdriver.Chrome()\n",
    "        self.driver.get(self.URL)\n",
    "        time.sleep(5)\n",
    "    \n",
    "    def login(self):\n",
    "        '''login sequence'''\n",
    "        user_el = self.driver.find_element_by_class_name('r-18u37iz')\n",
    "        user_el.send_keys(self.USERNAME)\n",
    "        user_el.send_keys(Keys.TAB)\n",
    "        \n",
    "        pass_el = self.driver.find_element_by_name('session[password]')\n",
    "        pass_el.send_keys(self.PASSWORD)\n",
    "        pass_el.send_keys(Keys.ENTER)\n",
    "        \n",
    "        time.sleep(10)\n",
    "    \n",
    "    def get_profile(self):\n",
    "        profile = self.driver.find_element_by_class_name('css-1dbjc4n.r-1twgtwe.r-sdzlij.r-rs99b7.r-1p0dtai.r-1mi75qu.r-1d2f490.r-1ny4l3l.r-u8s1d.r-zchlnj.r-ipm5af.r-o7ynqc.r-6416eg')\n",
    "        profile.click()\n",
    "    \n",
    "    def undo(self,twt_cnt):\n",
    "        for t in range(twt_cnt):\n",
    "            time.sleep(1)\n",
    "            rt_btn = self.driver.find_element_by_class_name('css-901oao.r-1awozwy.r-nw8l94.r-6koalj.r-1qd0xha.r-a023e6.r-16dba41.r-1h0z5md.r-ad9z0x.r-bcqeeo.r-o7ynqc.r-clp7b1.r-3s2u2q.r-qvutc0')\n",
    "            rt_btn.click()\n",
    "            time.sleep(2)\n",
    "            undo_twt = self.driver.find_element_by_class_name('css-1dbjc4n.r-1loqt21.r-18u37iz.r-1ny4l3l.r-1j3t67a.r-9qu9m4.r-o7ynqc.r-6416eg.r-13qz1uu')\n",
    "            undo_twt.click()\n",
    "            self.driver.execute_script(\"window.scrollTo(0, 0)\")\n",
    "            time.sleep(5)\n",
    "\n",
    "        \n",
    "        \n",
    "        "
   ]
  },
  {
   "cell_type": "code",
   "execution_count": 5,
   "metadata": {},
   "outputs": [],
   "source": [
    "if __name__ == '__main__':\n",
    "    username = input(\"Please enter your username: \")\n",
    "    password = input(\"Please enter your password, I Promise ill not use it later: \")\n",
    "    \n",
    "    bot = undoRetweet(username, password)\n",
    "    bot.login()\n",
    "    bot.get_profile()\n",
    "    bot.undo(5)\n",
    "    "
   ]
  },
  {
   "cell_type": "code",
   "execution_count": null,
   "metadata": {},
   "outputs": [],
   "source": []
  }
 ],
 "metadata": {
  "kernelspec": {
   "display_name": "Python 3",
   "language": "python",
   "name": "python3"
  },
  "language_info": {
   "codemirror_mode": {
    "name": "ipython",
    "version": 3
   },
   "file_extension": ".py",
   "mimetype": "text/x-python",
   "name": "python",
   "nbconvert_exporter": "python",
   "pygments_lexer": "ipython3",
   "version": "3.7.7"
  }
 },
 "nbformat": 4,
 "nbformat_minor": 4
}
